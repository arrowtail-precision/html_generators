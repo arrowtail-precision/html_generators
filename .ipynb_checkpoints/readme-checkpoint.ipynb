{
 "cells": [
  {
   "cell_type": "markdown",
   "id": "consolidated-split",
   "metadata": {},
   "source": [
    "# html_generators\n",
    "\n",
    "For anyone who wants to generate html with python (be that a small snippet, or an entire web).\n",
    "\n",
    "We develop a lot of sites using Django, and find the template system both cumbersome and limiting. This package provides an alternative, functional approach. Inspired by React and other \"hyperscript\" libraries from javascript.\n",
    "\n",
    "This readme gives a high-level overview/introduction into this pacakge and its intended usage. This is _not_ a complete api reference. For that, just read the source. Anything you can import/access without a leading underscore is considered part of the public api. We recommend installing the package, and reading the source in your python editor of choice.\n",
    "\n",
    "## Quick Start\n",
    "`pip install html_generators`"
   ]
  },
  {
   "cell_type": "code",
   "execution_count": 45,
   "id": "equipped-white",
   "metadata": {},
   "outputs": [
    {
     "name": "stdout",
     "output_type": "stream",
     "text": [
      "<!DOCTYPE html>\n",
      "<head><title>html_generators_demo</title><meta charset=\"utf-8\"></head><body>Hello, World!<footer style=\"border-top: 1px solid black;\">The End</footer></body>\n"
     ]
    }
   ],
   "source": [
    "import html_generators as h\n",
    "page = h.Document(\n",
    "    h.Head(\n",
    "        h.Title('html_generators_demo'),\n",
    "        h.Meta(charset='utf-8'),\n",
    "    ),\n",
    "    h.Body(\n",
    "        'Hello, World!',\n",
    "        h.Footer(\n",
    "            'The End',\n",
    "            style='border-top: 1px solid black;',\n",
    "        ),\n",
    "    ),\n",
    ")\n",
    "print(page)"
   ]
  },
  {
   "cell_type": "markdown",
   "id": "martial-mitchell",
   "metadata": {},
   "source": [
    "Nothing gets pretty-printed automatically. For the sake of readability, we'll often manually pretty-print things in this document:"
   ]
  },
  {
   "cell_type": "markdown",
   "id": "adopted-adjustment",
   "metadata": {},
   "source": [
    "### Child Nodes/Nesting\n",
    "\n",
    "All positional arguments passed to an element will become child elements or text nodes. "
   ]
  },
  {
   "cell_type": "code",
   "execution_count": 46,
   "id": "personalized-aviation",
   "metadata": {},
   "outputs": [
    {
     "name": "stdout",
     "output_type": "stream",
     "text": [
      "<div>A text node child. &lt;&gt;? More text content. ABC. 1 is the loneliest number.<p>1</p><p>2</p><p>3</p><footer>Copyright 2021-03-12</footer></div>\n"
     ]
    }
   ],
   "source": [
    "from datetime import date\n",
    "is_super_user = False\n",
    "\n",
    "def footer():\n",
    "    return h.Footer('Copyright ', date.today())\n",
    "\n",
    "print(h.Div(\n",
    "    # Text content is always escaped\n",
    "    'A text node child. <>?',\n",
    "    # Any iterables will be \"unwrapped\".\n",
    "    (' More text ', 'content.', (' A','B','C. ')), \n",
    "    # Non-str children will be cast to str\n",
    "    1, ' is the loneliest number.', \n",
    "    # False and None will not render anything...\n",
    "    False, None, \n",
    "    # ... which makes conditional children easy\n",
    "    is_super_user and h.Button('Delete Everything', onclick='delete_everything();'), \n",
    "    # Looping is easy\n",
    "    [\n",
    "        h.P(x)\n",
    "        for x in range(1,4)\n",
    "    ],\n",
    "    # Composition is easy\n",
    "    footer(),\n",
    "))"
   ]
  },
  {
   "cell_type": "markdown",
   "id": "limiting-fever",
   "metadata": {},
   "source": [
    "### HTML Attributes \n",
    "HTML attributes are specified as keyword arguments. At first, it's a little awkward that an element's attributes appear after it's children in your source code, but you get used to it quickly."
   ]
  },
  {
   "cell_type": "code",
   "execution_count": 47,
   "id": "fallen-america",
   "metadata": {},
   "outputs": [
    {
     "name": "stdout",
     "output_type": "stream",
     "text": [
      "<div id=\"my-div&lt;&quot;\" class=\"my-class\" data-foo=\"bar\" my-custom-attribute=\"5\">Hello, world!</div>\n",
      "<select><option value=\"1\" selected class=\"0\" style=\"\">1</option><option value=\"2\" class=\"0\" style=\"\">2</option><option value=\"3\" class=\"0\" style=\"\">3</option></select>\n"
     ]
    }
   ],
   "source": [
    "print(h.Div(\n",
    "    'Hello, world!', \n",
    "    # Attribute values are always escaped\n",
    "    id='my-div<\"', \n",
    "    # \"class\" is a reserved word, so add a trailing underscore\n",
    "    # Trailing underscores on any keyword argument are trimmed\n",
    "    class_='my-class',\n",
    "    # underscores in the middle of a keyword argument are converted to hyphens\n",
    "    data_foo='bar',\n",
    "    # values will be coerced to strings\n",
    "    my_custom_attribute=5,\n",
    "))\n",
    "\n",
    "selected_value = 1\n",
    "print(h.Select(\n",
    "    [\n",
    "        h.Option(\n",
    "            v, \n",
    "            value=v,\n",
    "            # If the value is True, the attribute will be printed without a value\n",
    "            # If the value is None or is False, the attribute will not be printed\n",
    "            selected=v==selected_value,\n",
    "            # Other falsey values _do_ print\n",
    "            class_=0,\n",
    "            style='',\n",
    "        )\n",
    "        for v in range(1,4)\n",
    "    ]\n",
    "))"
   ]
  },
  {
   "cell_type": "markdown",
   "id": "standing-chess",
   "metadata": {},
   "source": [
    "## Other Utilities\n",
    "\n",
    "### Marksafe\n",
    "### Join\n",
    "### Fragment\n",
    "### classes/styles\n",
    "### unicode -> write a module with some useful characters?\n",
    "### svg_maker?\n",
    "\n",
    "## Mixing With Other Template Systems\n",
    "### __html__\n",
    "### django.Template\n",
    "\n",
    "## Lazy/Streaming\n",
    "\n",
    "## Code Organization\n",
    "\n",
    "### Pages\n",
    "### Replaceable Generator Library --> write ReplaceableLibrary with .replace() decorator\n",
    "\n",
    "## Performance\n",
    "\n",
    "The focus of this package is on ease-of-use for the developer, not performance. We have not yet written any benchmarks to compare this package to other means of generating HTML (ie. Django's template system). All we can say right now is that we haven't had any issues with it. That said, there's no reason this approach shouldn't be as performant (or better) than python based template engines. \n",
    "\n",
    "If you want to write some benchmarks to compare this package to Django's template system, we'd be glad to include those results here.\n",
    "\n",
    "For a trivial template (which just reduces to a single static string), Django's template system _should_ be much faster, and use much less memory. For a very complex template (with many dynamic values and lots of control flow) we might actually come out ahead.\n",
    "\n",
    "We have an idea for a pre-compilation step, which would reduce render time and memory usage (to essentially the theoretical minimum), but we probably won't bother until/unless someone demonstrates a need.\n",
    "\n",
    "# ------------------------------"
   ]
  },
  {
   "cell_type": "code",
   "execution_count": 48,
   "id": "unusual-piano",
   "metadata": {
    "scrolled": false
   },
   "outputs": [
    {
     "name": "stdout",
     "output_type": "stream",
     "text": [
      "<main>\n",
      " <h1>\n",
      "  My Awesome Page\n",
      " </h1>\n",
      " <p>\n",
      "  This page is awesome\n",
      " </p>\n",
      "</main>\n"
     ]
    }
   ],
   "source": [
    "from demo import pretty\n",
    "print(pretty(simple_page))"
   ]
  },
  {
   "cell_type": "markdown",
   "id": "nasty-giant",
   "metadata": {},
   "source": [
    "## `html_generators.Element(name, *children, **attrs)`\n",
    "\n",
    "You won't use often use this class directly, but it's the base class<sup>*</sup> for all of our elements, so you need to understand it.\n",
    "\n",
    "`def __init__(self, _name, *_children, **attrs):`\n",
    "\n",
    "`_name` is the name of the \n",
    "\n",
    "This is the base class of "
   ]
  },
  {
   "cell_type": "code",
   "execution_count": null,
   "id": "smoking-friend",
   "metadata": {},
   "outputs": [],
   "source": []
  }
 ],
 "metadata": {
  "kernelspec": {
   "display_name": "Python 3",
   "language": "python",
   "name": "python3"
  },
  "language_info": {
   "codemirror_mode": {
    "name": "ipython",
    "version": 3
   },
   "file_extension": ".py",
   "mimetype": "text/x-python",
   "name": "python",
   "nbconvert_exporter": "python",
   "pygments_lexer": "ipython3",
   "version": "3.6.5"
  }
 },
 "nbformat": 4,
 "nbformat_minor": 5
}
